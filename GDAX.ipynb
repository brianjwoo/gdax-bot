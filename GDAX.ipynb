{
 "cells": [
  {
   "cell_type": "code",
   "execution_count": 2,
   "metadata": {},
   "outputs": [
    {
     "ename": "KeyboardInterrupt",
     "evalue": "",
     "output_type": "error",
     "traceback": [
      "\u001b[0;31m---------------------------------------------------------------------------\u001b[0m",
      "\u001b[0;31mKeyboardInterrupt\u001b[0m                         Traceback (most recent call last)",
      "\u001b[0;32m<ipython-input-2-80a2c74a260f>\u001b[0m in \u001b[0;36m<module>\u001b[0;34m()\u001b[0m\n\u001b[1;32m     32\u001b[0m             \u001b[0mdata\u001b[0m\u001b[0;34m.\u001b[0m\u001b[0mappend\u001b[0m\u001b[0;34m(\u001b[0m\u001b[0mresponse\u001b[0m\u001b[0;34m)\u001b[0m\u001b[0;34m\u001b[0m\u001b[0m\n\u001b[1;32m     33\u001b[0m \u001b[0;34m\u001b[0m\u001b[0m\n\u001b[0;32m---> 34\u001b[0;31m \u001b[0masyncio\u001b[0m\u001b[0;34m.\u001b[0m\u001b[0mget_event_loop\u001b[0m\u001b[0;34m(\u001b[0m\u001b[0;34m)\u001b[0m\u001b[0;34m.\u001b[0m\u001b[0mrun_until_complete\u001b[0m\u001b[0;34m(\u001b[0m\u001b[0mhello\u001b[0m\u001b[0;34m(\u001b[0m\u001b[0;34m)\u001b[0m\u001b[0;34m)\u001b[0m\u001b[0;34m\u001b[0m\u001b[0m\n\u001b[0m",
      "\u001b[0;32m//anaconda/envs/py3btc/lib/python3.6/asyncio/base_events.py\u001b[0m in \u001b[0;36mrun_until_complete\u001b[0;34m(self, future)\u001b[0m\n\u001b[1;32m    452\u001b[0m         \u001b[0mfuture\u001b[0m\u001b[0;34m.\u001b[0m\u001b[0madd_done_callback\u001b[0m\u001b[0;34m(\u001b[0m\u001b[0m_run_until_complete_cb\u001b[0m\u001b[0;34m)\u001b[0m\u001b[0;34m\u001b[0m\u001b[0m\n\u001b[1;32m    453\u001b[0m         \u001b[0;32mtry\u001b[0m\u001b[0;34m:\u001b[0m\u001b[0;34m\u001b[0m\u001b[0m\n\u001b[0;32m--> 454\u001b[0;31m             \u001b[0mself\u001b[0m\u001b[0;34m.\u001b[0m\u001b[0mrun_forever\u001b[0m\u001b[0;34m(\u001b[0m\u001b[0;34m)\u001b[0m\u001b[0;34m\u001b[0m\u001b[0m\n\u001b[0m\u001b[1;32m    455\u001b[0m         \u001b[0;32mexcept\u001b[0m\u001b[0;34m:\u001b[0m\u001b[0;34m\u001b[0m\u001b[0m\n\u001b[1;32m    456\u001b[0m             \u001b[0;32mif\u001b[0m \u001b[0mnew_task\u001b[0m \u001b[0;32mand\u001b[0m \u001b[0mfuture\u001b[0m\u001b[0;34m.\u001b[0m\u001b[0mdone\u001b[0m\u001b[0;34m(\u001b[0m\u001b[0;34m)\u001b[0m \u001b[0;32mand\u001b[0m \u001b[0;32mnot\u001b[0m \u001b[0mfuture\u001b[0m\u001b[0;34m.\u001b[0m\u001b[0mcancelled\u001b[0m\u001b[0;34m(\u001b[0m\u001b[0;34m)\u001b[0m\u001b[0;34m:\u001b[0m\u001b[0;34m\u001b[0m\u001b[0m\n",
      "\u001b[0;32m//anaconda/envs/py3btc/lib/python3.6/asyncio/base_events.py\u001b[0m in \u001b[0;36mrun_forever\u001b[0;34m(self)\u001b[0m\n\u001b[1;32m    419\u001b[0m             \u001b[0mevents\u001b[0m\u001b[0;34m.\u001b[0m\u001b[0m_set_running_loop\u001b[0m\u001b[0;34m(\u001b[0m\u001b[0mself\u001b[0m\u001b[0;34m)\u001b[0m\u001b[0;34m\u001b[0m\u001b[0m\n\u001b[1;32m    420\u001b[0m             \u001b[0;32mwhile\u001b[0m \u001b[0;32mTrue\u001b[0m\u001b[0;34m:\u001b[0m\u001b[0;34m\u001b[0m\u001b[0m\n\u001b[0;32m--> 421\u001b[0;31m                 \u001b[0mself\u001b[0m\u001b[0;34m.\u001b[0m\u001b[0m_run_once\u001b[0m\u001b[0;34m(\u001b[0m\u001b[0;34m)\u001b[0m\u001b[0;34m\u001b[0m\u001b[0m\n\u001b[0m\u001b[1;32m    422\u001b[0m                 \u001b[0;32mif\u001b[0m \u001b[0mself\u001b[0m\u001b[0;34m.\u001b[0m\u001b[0m_stopping\u001b[0m\u001b[0;34m:\u001b[0m\u001b[0;34m\u001b[0m\u001b[0m\n\u001b[1;32m    423\u001b[0m                     \u001b[0;32mbreak\u001b[0m\u001b[0;34m\u001b[0m\u001b[0m\n",
      "\u001b[0;32m//anaconda/envs/py3btc/lib/python3.6/asyncio/base_events.py\u001b[0m in \u001b[0;36m_run_once\u001b[0;34m(self)\u001b[0m\n\u001b[1;32m   1388\u001b[0m                            timeout * 1e3, dt * 1e3)\n\u001b[1;32m   1389\u001b[0m         \u001b[0;32melse\u001b[0m\u001b[0;34m:\u001b[0m\u001b[0;34m\u001b[0m\u001b[0m\n\u001b[0;32m-> 1390\u001b[0;31m             \u001b[0mevent_list\u001b[0m \u001b[0;34m=\u001b[0m \u001b[0mself\u001b[0m\u001b[0;34m.\u001b[0m\u001b[0m_selector\u001b[0m\u001b[0;34m.\u001b[0m\u001b[0mselect\u001b[0m\u001b[0;34m(\u001b[0m\u001b[0mtimeout\u001b[0m\u001b[0;34m)\u001b[0m\u001b[0;34m\u001b[0m\u001b[0m\n\u001b[0m\u001b[1;32m   1391\u001b[0m         \u001b[0mself\u001b[0m\u001b[0;34m.\u001b[0m\u001b[0m_process_events\u001b[0m\u001b[0;34m(\u001b[0m\u001b[0mevent_list\u001b[0m\u001b[0;34m)\u001b[0m\u001b[0;34m\u001b[0m\u001b[0m\n\u001b[1;32m   1392\u001b[0m \u001b[0;34m\u001b[0m\u001b[0m\n",
      "\u001b[0;32m//anaconda/envs/py3btc/lib/python3.6/selectors.py\u001b[0m in \u001b[0;36mselect\u001b[0;34m(self, timeout)\u001b[0m\n\u001b[1;32m    575\u001b[0m             \u001b[0mready\u001b[0m \u001b[0;34m=\u001b[0m \u001b[0;34m[\u001b[0m\u001b[0;34m]\u001b[0m\u001b[0;34m\u001b[0m\u001b[0m\n\u001b[1;32m    576\u001b[0m             \u001b[0;32mtry\u001b[0m\u001b[0;34m:\u001b[0m\u001b[0;34m\u001b[0m\u001b[0m\n\u001b[0;32m--> 577\u001b[0;31m                 \u001b[0mkev_list\u001b[0m \u001b[0;34m=\u001b[0m \u001b[0mself\u001b[0m\u001b[0;34m.\u001b[0m\u001b[0m_kqueue\u001b[0m\u001b[0;34m.\u001b[0m\u001b[0mcontrol\u001b[0m\u001b[0;34m(\u001b[0m\u001b[0;32mNone\u001b[0m\u001b[0;34m,\u001b[0m \u001b[0mmax_ev\u001b[0m\u001b[0;34m,\u001b[0m \u001b[0mtimeout\u001b[0m\u001b[0;34m)\u001b[0m\u001b[0;34m\u001b[0m\u001b[0m\n\u001b[0m\u001b[1;32m    578\u001b[0m             \u001b[0;32mexcept\u001b[0m \u001b[0mInterruptedError\u001b[0m\u001b[0;34m:\u001b[0m\u001b[0;34m\u001b[0m\u001b[0m\n\u001b[1;32m    579\u001b[0m                 \u001b[0;32mreturn\u001b[0m \u001b[0mready\u001b[0m\u001b[0;34m\u001b[0m\u001b[0m\n",
      "\u001b[0;31mKeyboardInterrupt\u001b[0m: "
     ]
    }
   ],
   "source": [
    "import json\n",
    "import asyncio\n",
    "import websockets\n",
    "\n",
    "import pandas as pd\n",
    "\n",
    "url = \"wss://ws-feed.gdax.com\"\n",
    "\n",
    "# request = {\n",
    "#     \"type\": \"subscribe\",\n",
    "#     \"product_ids\": [\"BTC-USD\"],\n",
    "#     \"channels\": [\"level2\", \"heartbeat\"]\n",
    "# }\n",
    "\n",
    "request = {\n",
    "    \"type\": \"subscribe\",\n",
    "    \"product_ids\": [\"BTC-USD\"],\n",
    "    \"channels\": [\n",
    "        {\n",
    "            \"name\": \"ticker\",\n",
    "            \"product_ids\": [\"BTC-USD\"]\n",
    "        }\n",
    "    ]\n",
    "}\n",
    "\n",
    "data = []\n",
    "\n",
    "async def hello():\n",
    "    async with websockets.connect(url) as websocket:\n",
    "        await websocket.send(json.dumps(request))\n",
    "\n",
    "        while True:\n",
    "            response = await websocket.recv()\n",
    "            data.append(response)\n",
    "\n",
    "asyncio.get_event_loop().run_until_complete(hello())"
   ]
  },
  {
   "cell_type": "code",
   "execution_count": 1,
   "metadata": {},
   "outputs": [],
   "source": [
    "#json.loads(data[0])"
   ]
  },
  {
   "cell_type": "code",
   "execution_count": null,
   "metadata": {
    "collapsed": true
   },
   "outputs": [],
   "source": [
    "request = {\n",
    "    \"type\": \"subscribe\",\n",
    "    \"product_ids\": [\"BTC-USD\"],\n",
    "    \"channels\": [\n",
    "        {\n",
    "            \"name\": \"ticker\",\n",
    "            \"product_ids\": [\"BTC-USD\"]\n",
    "        }\n",
    "    ]\n",
    "}"
   ]
  },
  {
   "cell_type": "code",
   "execution_count": 6,
   "metadata": {},
   "outputs": [
    {
     "data": {
      "text/plain": [
       "9"
      ]
     },
     "execution_count": 6,
     "metadata": {},
     "output_type": "execute_result"
    }
   ],
   "source": [
    "len(data)"
   ]
  },
  {
   "cell_type": "code",
   "execution_count": 8,
   "metadata": {},
   "outputs": [
    {
     "data": {
      "text/plain": [
       "'{\"type\":\"ticker\",\"sequence\":5335021812,\"product_id\":\"BTC-USD\",\"price\":\"9287.65000000\",\"open_24h\":\"9025.00000000\",\"volume_24h\":\"39769.90109551\",\"low_24h\":\"9287.65000000\",\"high_24h\":\"9416.56000000\",\"volume_30d\":\"647078.43434052\",\"best_bid\":\"9287.64\",\"best_ask\":\"9287.65\"}'"
      ]
     },
     "execution_count": 8,
     "metadata": {},
     "output_type": "execute_result"
    }
   ],
   "source": [
    "data[0]"
   ]
  },
  {
   "cell_type": "code",
   "execution_count": 9,
   "metadata": {},
   "outputs": [
    {
     "data": {
      "text/plain": [
       "'{\"type\":\"subscriptions\",\"channels\":[{\"name\":\"ticker\",\"product_ids\":[\"BTC-USD\"]}]}'"
      ]
     },
     "execution_count": 9,
     "metadata": {},
     "output_type": "execute_result"
    }
   ],
   "source": [
    "data[1]"
   ]
  },
  {
   "cell_type": "code",
   "execution_count": 10,
   "metadata": {},
   "outputs": [
    {
     "data": {
      "text/plain": [
       "'{\"type\":\"ticker\",\"sequence\":5335022239,\"product_id\":\"BTC-USD\",\"price\":\"9287.65000000\",\"open_24h\":\"9025.00000000\",\"volume_24h\":\"39769.95888085\",\"low_24h\":\"9287.65000000\",\"high_24h\":\"9416.56000000\",\"volume_30d\":\"647078.49212586\",\"best_bid\":\"9287.64\",\"best_ask\":\"9287.65\",\"side\":\"buy\",\"time\":\"2018-03-10T02:38:56.166000Z\",\"trade_id\":39109880,\"last_size\":\"0.05778534\"}'"
      ]
     },
     "execution_count": 10,
     "metadata": {},
     "output_type": "execute_result"
    }
   ],
   "source": [
    "data[2]"
   ]
  },
  {
   "cell_type": "code",
   "execution_count": 11,
   "metadata": {},
   "outputs": [
    {
     "data": {
      "text/plain": [
       "'{\"type\":\"ticker\",\"sequence\":5335022241,\"product_id\":\"BTC-USD\",\"price\":\"9287.65000000\",\"open_24h\":\"9025.00000000\",\"volume_24h\":\"39770.42889371\",\"low_24h\":\"9287.65000000\",\"high_24h\":\"9416.56000000\",\"volume_30d\":\"647078.96213872\",\"best_bid\":\"9287.64\",\"best_ask\":\"9287.65\",\"side\":\"buy\",\"time\":\"2018-03-10T02:38:56.166000Z\",\"trade_id\":39109881,\"last_size\":\"0.47001286\"}'"
      ]
     },
     "execution_count": 11,
     "metadata": {},
     "output_type": "execute_result"
    }
   ],
   "source": [
    "data[3]"
   ]
  },
  {
   "cell_type": "code",
   "execution_count": 12,
   "metadata": {},
   "outputs": [
    {
     "data": {
      "text/plain": [
       "'{\"type\":\"ticker\",\"sequence\":5335022282,\"product_id\":\"BTC-USD\",\"price\":\"9287.65000000\",\"open_24h\":\"9025.00000000\",\"volume_24h\":\"39770.53629371\",\"low_24h\":\"9287.65000000\",\"high_24h\":\"9416.56000000\",\"volume_30d\":\"647079.06953872\",\"best_bid\":\"9287.64\",\"best_ask\":\"9287.65\",\"side\":\"buy\",\"time\":\"2018-03-10T02:38:56.862000Z\",\"trade_id\":39109882,\"last_size\":\"0.10740000\"}'"
      ]
     },
     "execution_count": 12,
     "metadata": {},
     "output_type": "execute_result"
    }
   ],
   "source": [
    "data[4]"
   ]
  },
  {
   "cell_type": "code",
   "execution_count": 13,
   "metadata": {},
   "outputs": [
    {
     "data": {
      "text/plain": [
       "'{\"type\":\"ticker\",\"sequence\":5335022346,\"product_id\":\"BTC-USD\",\"price\":\"9287.64000000\",\"open_24h\":\"9025.00000000\",\"volume_24h\":\"39770.99417745\",\"low_24h\":\"9287.64000000\",\"high_24h\":\"9416.56000000\",\"volume_30d\":\"647079.52742246\",\"best_bid\":\"9287.64\",\"best_ask\":\"9287.65\",\"side\":\"sell\",\"time\":\"2018-03-10T02:38:57.811000Z\",\"trade_id\":39109883,\"last_size\":\"0.45788374\"}'"
      ]
     },
     "execution_count": 13,
     "metadata": {},
     "output_type": "execute_result"
    }
   ],
   "source": [
    "data[5]"
   ]
  },
  {
   "cell_type": "code",
   "execution_count": 14,
   "metadata": {
    "collapsed": true
   },
   "outputs": [],
   "source": [
    "d = json.loads(data[5])"
   ]
  },
  {
   "cell_type": "code",
   "execution_count": 15,
   "metadata": {},
   "outputs": [
    {
     "data": {
      "text/plain": [
       "{'best_ask': '9287.65',\n",
       " 'best_bid': '9287.64',\n",
       " 'high_24h': '9416.56000000',\n",
       " 'last_size': '0.45788374',\n",
       " 'low_24h': '9287.64000000',\n",
       " 'open_24h': '9025.00000000',\n",
       " 'price': '9287.64000000',\n",
       " 'product_id': 'BTC-USD',\n",
       " 'sequence': 5335022346,\n",
       " 'side': 'sell',\n",
       " 'time': '2018-03-10T02:38:57.811000Z',\n",
       " 'trade_id': 39109883,\n",
       " 'type': 'ticker',\n",
       " 'volume_24h': '39770.99417745',\n",
       " 'volume_30d': '647079.52742246'}"
      ]
     },
     "execution_count": 15,
     "metadata": {},
     "output_type": "execute_result"
    }
   ],
   "source": [
    "d"
   ]
  },
  {
   "cell_type": "code",
   "execution_count": 18,
   "metadata": {},
   "outputs": [],
   "source": [
    "clean_data = [json.loads(d) for d in data]"
   ]
  },
  {
   "cell_type": "code",
   "execution_count": 21,
   "metadata": {},
   "outputs": [],
   "source": [
    "clean_data = [d for d in clean_data if d['type'] == 'ticker']"
   ]
  },
  {
   "cell_type": "code",
   "execution_count": 22,
   "metadata": {
    "collapsed": true
   },
   "outputs": [],
   "source": [
    "import pandas as pd"
   ]
  },
  {
   "cell_type": "code",
   "execution_count": 23,
   "metadata": {
    "collapsed": true
   },
   "outputs": [],
   "source": [
    "data_df = pd.DataFrame.from_dict(clean_data)"
   ]
  },
  {
   "cell_type": "code",
   "execution_count": 25,
   "metadata": {},
   "outputs": [
    {
     "data": {
      "text/html": [
       "<div>\n",
       "<style>\n",
       "    .dataframe thead tr:only-child th {\n",
       "        text-align: right;\n",
       "    }\n",
       "\n",
       "    .dataframe thead th {\n",
       "        text-align: left;\n",
       "    }\n",
       "\n",
       "    .dataframe tbody tr th {\n",
       "        vertical-align: top;\n",
       "    }\n",
       "</style>\n",
       "<table border=\"1\" class=\"dataframe\">\n",
       "  <thead>\n",
       "    <tr style=\"text-align: right;\">\n",
       "      <th></th>\n",
       "      <th>best_ask</th>\n",
       "      <th>best_bid</th>\n",
       "      <th>high_24h</th>\n",
       "      <th>last_size</th>\n",
       "      <th>low_24h</th>\n",
       "      <th>open_24h</th>\n",
       "      <th>price</th>\n",
       "      <th>product_id</th>\n",
       "      <th>sequence</th>\n",
       "      <th>side</th>\n",
       "      <th>time</th>\n",
       "      <th>trade_id</th>\n",
       "      <th>type</th>\n",
       "      <th>volume_24h</th>\n",
       "      <th>volume_30d</th>\n",
       "    </tr>\n",
       "  </thead>\n",
       "  <tbody>\n",
       "    <tr>\n",
       "      <th>0</th>\n",
       "      <td>9287.65</td>\n",
       "      <td>9287.64</td>\n",
       "      <td>9416.56000000</td>\n",
       "      <td>NaN</td>\n",
       "      <td>9287.65000000</td>\n",
       "      <td>9025.00000000</td>\n",
       "      <td>9287.65000000</td>\n",
       "      <td>BTC-USD</td>\n",
       "      <td>5335021812</td>\n",
       "      <td>NaN</td>\n",
       "      <td>NaN</td>\n",
       "      <td>NaN</td>\n",
       "      <td>ticker</td>\n",
       "      <td>39769.90109551</td>\n",
       "      <td>647078.43434052</td>\n",
       "    </tr>\n",
       "    <tr>\n",
       "      <th>1</th>\n",
       "      <td>9287.65</td>\n",
       "      <td>9287.64</td>\n",
       "      <td>9416.56000000</td>\n",
       "      <td>0.05778534</td>\n",
       "      <td>9287.65000000</td>\n",
       "      <td>9025.00000000</td>\n",
       "      <td>9287.65000000</td>\n",
       "      <td>BTC-USD</td>\n",
       "      <td>5335022239</td>\n",
       "      <td>buy</td>\n",
       "      <td>2018-03-10T02:38:56.166000Z</td>\n",
       "      <td>39109880.0</td>\n",
       "      <td>ticker</td>\n",
       "      <td>39769.95888085</td>\n",
       "      <td>647078.49212586</td>\n",
       "    </tr>\n",
       "    <tr>\n",
       "      <th>2</th>\n",
       "      <td>9287.65</td>\n",
       "      <td>9287.64</td>\n",
       "      <td>9416.56000000</td>\n",
       "      <td>0.47001286</td>\n",
       "      <td>9287.65000000</td>\n",
       "      <td>9025.00000000</td>\n",
       "      <td>9287.65000000</td>\n",
       "      <td>BTC-USD</td>\n",
       "      <td>5335022241</td>\n",
       "      <td>buy</td>\n",
       "      <td>2018-03-10T02:38:56.166000Z</td>\n",
       "      <td>39109881.0</td>\n",
       "      <td>ticker</td>\n",
       "      <td>39770.42889371</td>\n",
       "      <td>647078.96213872</td>\n",
       "    </tr>\n",
       "    <tr>\n",
       "      <th>3</th>\n",
       "      <td>9287.65</td>\n",
       "      <td>9287.64</td>\n",
       "      <td>9416.56000000</td>\n",
       "      <td>0.10740000</td>\n",
       "      <td>9287.65000000</td>\n",
       "      <td>9025.00000000</td>\n",
       "      <td>9287.65000000</td>\n",
       "      <td>BTC-USD</td>\n",
       "      <td>5335022282</td>\n",
       "      <td>buy</td>\n",
       "      <td>2018-03-10T02:38:56.862000Z</td>\n",
       "      <td>39109882.0</td>\n",
       "      <td>ticker</td>\n",
       "      <td>39770.53629371</td>\n",
       "      <td>647079.06953872</td>\n",
       "    </tr>\n",
       "    <tr>\n",
       "      <th>4</th>\n",
       "      <td>9287.65</td>\n",
       "      <td>9287.64</td>\n",
       "      <td>9416.56000000</td>\n",
       "      <td>0.45788374</td>\n",
       "      <td>9287.64000000</td>\n",
       "      <td>9025.00000000</td>\n",
       "      <td>9287.64000000</td>\n",
       "      <td>BTC-USD</td>\n",
       "      <td>5335022346</td>\n",
       "      <td>sell</td>\n",
       "      <td>2018-03-10T02:38:57.811000Z</td>\n",
       "      <td>39109883.0</td>\n",
       "      <td>ticker</td>\n",
       "      <td>39770.99417745</td>\n",
       "      <td>647079.52742246</td>\n",
       "    </tr>\n",
       "    <tr>\n",
       "      <th>5</th>\n",
       "      <td>9287.65</td>\n",
       "      <td>9287.64</td>\n",
       "      <td>9416.56000000</td>\n",
       "      <td>0.02003331</td>\n",
       "      <td>9287.64000000</td>\n",
       "      <td>9025.00000000</td>\n",
       "      <td>9287.64000000</td>\n",
       "      <td>BTC-USD</td>\n",
       "      <td>5335022399</td>\n",
       "      <td>sell</td>\n",
       "      <td>2018-03-10T02:38:58.183000Z</td>\n",
       "      <td>39109884.0</td>\n",
       "      <td>ticker</td>\n",
       "      <td>39771.01421076</td>\n",
       "      <td>647079.54745577</td>\n",
       "    </tr>\n",
       "    <tr>\n",
       "      <th>6</th>\n",
       "      <td>9287.65</td>\n",
       "      <td>9287.64</td>\n",
       "      <td>9416.56000000</td>\n",
       "      <td>0.17744315</td>\n",
       "      <td>9287.65000000</td>\n",
       "      <td>9025.00000000</td>\n",
       "      <td>9287.65000000</td>\n",
       "      <td>BTC-USD</td>\n",
       "      <td>5335022434</td>\n",
       "      <td>buy</td>\n",
       "      <td>2018-03-10T02:38:58.391000Z</td>\n",
       "      <td>39109885.0</td>\n",
       "      <td>ticker</td>\n",
       "      <td>39771.19165391</td>\n",
       "      <td>647079.72489892</td>\n",
       "    </tr>\n",
       "    <tr>\n",
       "      <th>7</th>\n",
       "      <td>9287.65</td>\n",
       "      <td>9287.64</td>\n",
       "      <td>9416.56000000</td>\n",
       "      <td>0.11314900</td>\n",
       "      <td>9287.64000000</td>\n",
       "      <td>9024.99000000</td>\n",
       "      <td>9287.64000000</td>\n",
       "      <td>BTC-USD</td>\n",
       "      <td>5335022525</td>\n",
       "      <td>sell</td>\n",
       "      <td>2018-03-10T02:38:59.452000Z</td>\n",
       "      <td>39109886.0</td>\n",
       "      <td>ticker</td>\n",
       "      <td>39761.56450267</td>\n",
       "      <td>647062.70898125</td>\n",
       "    </tr>\n",
       "  </tbody>\n",
       "</table>\n",
       "</div>"
      ],
      "text/plain": [
       "  best_ask best_bid       high_24h   last_size        low_24h       open_24h  \\\n",
       "0  9287.65  9287.64  9416.56000000         NaN  9287.65000000  9025.00000000   \n",
       "1  9287.65  9287.64  9416.56000000  0.05778534  9287.65000000  9025.00000000   \n",
       "2  9287.65  9287.64  9416.56000000  0.47001286  9287.65000000  9025.00000000   \n",
       "3  9287.65  9287.64  9416.56000000  0.10740000  9287.65000000  9025.00000000   \n",
       "4  9287.65  9287.64  9416.56000000  0.45788374  9287.64000000  9025.00000000   \n",
       "5  9287.65  9287.64  9416.56000000  0.02003331  9287.64000000  9025.00000000   \n",
       "6  9287.65  9287.64  9416.56000000  0.17744315  9287.65000000  9025.00000000   \n",
       "7  9287.65  9287.64  9416.56000000  0.11314900  9287.64000000  9024.99000000   \n",
       "\n",
       "           price product_id    sequence  side                         time  \\\n",
       "0  9287.65000000    BTC-USD  5335021812   NaN                          NaN   \n",
       "1  9287.65000000    BTC-USD  5335022239   buy  2018-03-10T02:38:56.166000Z   \n",
       "2  9287.65000000    BTC-USD  5335022241   buy  2018-03-10T02:38:56.166000Z   \n",
       "3  9287.65000000    BTC-USD  5335022282   buy  2018-03-10T02:38:56.862000Z   \n",
       "4  9287.64000000    BTC-USD  5335022346  sell  2018-03-10T02:38:57.811000Z   \n",
       "5  9287.64000000    BTC-USD  5335022399  sell  2018-03-10T02:38:58.183000Z   \n",
       "6  9287.65000000    BTC-USD  5335022434   buy  2018-03-10T02:38:58.391000Z   \n",
       "7  9287.64000000    BTC-USD  5335022525  sell  2018-03-10T02:38:59.452000Z   \n",
       "\n",
       "     trade_id    type      volume_24h       volume_30d  \n",
       "0         NaN  ticker  39769.90109551  647078.43434052  \n",
       "1  39109880.0  ticker  39769.95888085  647078.49212586  \n",
       "2  39109881.0  ticker  39770.42889371  647078.96213872  \n",
       "3  39109882.0  ticker  39770.53629371  647079.06953872  \n",
       "4  39109883.0  ticker  39770.99417745  647079.52742246  \n",
       "5  39109884.0  ticker  39771.01421076  647079.54745577  \n",
       "6  39109885.0  ticker  39771.19165391  647079.72489892  \n",
       "7  39109886.0  ticker  39761.56450267  647062.70898125  "
      ]
     },
     "execution_count": 25,
     "metadata": {},
     "output_type": "execute_result"
    }
   ],
   "source": [
    "data_df.sort_values(\"sequence\")"
   ]
  },
  {
   "cell_type": "code",
   "execution_count": 26,
   "metadata": {},
   "outputs": [
    {
     "data": {
      "text/plain": [
       "best_ask       object\n",
       "best_bid       object\n",
       "high_24h       object\n",
       "last_size      object\n",
       "low_24h        object\n",
       "open_24h       object\n",
       "price          object\n",
       "product_id     object\n",
       "sequence        int64\n",
       "side           object\n",
       "time           object\n",
       "trade_id      float64\n",
       "type           object\n",
       "volume_24h     object\n",
       "volume_30d     object\n",
       "dtype: object"
      ]
     },
     "execution_count": 26,
     "metadata": {},
     "output_type": "execute_result"
    }
   ],
   "source": [
    "data_df.dtypes"
   ]
  },
  {
   "cell_type": "code",
   "execution_count": null,
   "metadata": {
    "collapsed": true
   },
   "outputs": [],
   "source": []
  }
 ],
 "metadata": {
  "kernelspec": {
   "display_name": "Python 3",
   "language": "python",
   "name": "python3"
  },
  "language_info": {
   "codemirror_mode": {
    "name": "ipython",
    "version": 3
   },
   "file_extension": ".py",
   "mimetype": "text/x-python",
   "name": "python",
   "nbconvert_exporter": "python",
   "pygments_lexer": "ipython3",
   "version": "3.6.2"
  }
 },
 "nbformat": 4,
 "nbformat_minor": 2
}
