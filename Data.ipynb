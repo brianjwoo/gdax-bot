{
 "cells": [
  {
   "cell_type": "code",
   "execution_count": 1,
   "metadata": {
    "collapsed": true
   },
   "outputs": [],
   "source": [
    "import pandas as pd"
   ]
  },
  {
   "cell_type": "code",
   "execution_count": 15,
   "metadata": {},
   "outputs": [],
   "source": [
    "data = [{'type': 'done', 'side': 'sell', 'order_id': '71b3ef86-0395-4cfe-ba38-99a58544bcff', 'reason': 'canceled', 'product_id': 'BTC-USD', 'price': '8995.03000000', 'remaining_size': '0.00300000', 'sequence': 5324761790, 'time': '2018-03-09T04:12:45.002000Z'},\n",
    "{'type': 'done', 'side': 'buy', 'order_id': '55e14bd2-9d3f-41a1-bd14-ac544bedd33e', 'reason': 'canceled', 'product_id': 'BTC-USD', 'price': '8781.40000000', 'remaining_size': '0.00100000', 'sequence': 5324761791, 'time': '2018-03-09T04:12:45.002000Z'},\n",
    "{'type': 'done', 'side': 'sell', 'order_id': '958b25f5-021f-4a4c-96f6-b51e1e64348c', 'reason': 'canceled', 'product_id': 'BTC-USD', 'price': '8995.83000000', 'remaining_size': '0.00100000', 'sequence': 5324761792, 'time': '2018-03-09T04:12:45.002000Z'},\n",
    "{'type': 'done', 'side': 'buy', 'order_id': 'b79af91d-5c7f-45b1-b095-33a68c9f77fd', 'reason': 'canceled', 'product_id': 'BTC-USD', 'price': '8821.04000000', 'remaining_size': '0.90000000', 'sequence': 5324761793, 'time': '2018-03-09T04:12:45.033000Z'},\n",
    "{'type': 'received', 'order_id': '8b5506ad-e8c6-401f-9893-099c2b237604', 'order_type': 'limit', 'size': '0.90000000', 'price': '8821.05000000', 'side': 'buy', 'client_oid': '92313d61-c8e6-4d86-9a9a-3b6dc5e080fe', 'product_id': 'BTC-USD', 'sequence': 5324761794, 'time': '2018-03-09T04:12:45.079000Z'},\n",
    "{'type': 'open', 'side': 'buy', 'price': '8821.05000000', 'order_id': '8b5506ad-e8c6-401f-9893-099c2b237604', 'remaining_size': '0.90000000', 'product_id': 'BTC-USD', 'sequence': 5324761795, 'time': '2018-03-09T04:12:45.079000Z'},\n",
    "{'type': 'received', 'order_id': '4f68bcdc-9b70-4d2a-823a-dade9c5dbe17', 'order_type': 'limit', 'size': '4.00000000', 'price': '8835.01000000', 'side': 'sell', 'client_oid': 'e1057f6b-5205-4ea4-ee97-2233dd76d361', 'product_id': 'BTC-USD', 'sequence': 5324761796, 'time': '2018-03-09T04:12:45.083000Z'},\n",
    "{'type': 'open', 'side': 'sell', 'price': '8835.01000000', 'order_id': '4f68bcdc-9b70-4d2a-823a-dade9c5dbe17', 'remaining_size': '4.00000000', 'product_id': 'BTC-USD', 'sequence': 5324761797, 'time': '2018-03-09T04:12:45.083000Z'},\n",
    "{'type': 'done', 'side': 'buy', 'order_id': 'bfac7240-92e9-4bbd-8706-5f7505491593', 'reason': 'canceled', 'product_id': 'BTC-USD', 'price': '8824.76000000', 'remaining_size': '0.16000000', 'sequence': 5324761798, 'time': '2018-03-09T04:12:45.104000Z'},\n",
    "{'type': 'done', 'side': 'buy', 'order_id': '8b5506ad-e8c6-401f-9893-099c2b237604', 'reason': 'canceled', 'product_id': 'BTC-USD', 'price': '8821.05000000', 'remaining_size': '0.90000000', 'sequence': 5324761799, 'time': '2018-03-09T04:12:45.116000Z'},\n",
    "{'type': 'done', 'side': 'sell', 'order_id': 'd8548245-ade1-494c-b6fe-b664c4d6de2c', 'reason': 'canceled', 'product_id': 'BTC-USD', 'price': '17101.58000000', 'remaining_size': '0.00110000', 'sequence': 5324761800, 'time': '2018-03-09T04:12:45.145000Z'},\n",
    "{'type': 'received', 'order_id': 'd2b76c6a-bdce-427f-b131-b4a571e7c201', 'order_type': 'limit', 'size': '0.17000000', 'price': '8824.01000000', 'side': 'buy', 'client_oid': '5ff97c0a-6f64-4079-abfa-2462195fe7d5', 'product_id': 'BTC-USD', 'sequence': 5324761801, 'time': '2018-03-09T04:12:45.147000Z'},\n",
    "{'type': 'open', 'side': 'buy', 'price': '8824.01000000', 'order_id': 'd2b76c6a-bdce-427f-b131-b4a571e7c201', 'remaining_size': '0.17000000', 'product_id': 'BTC-USD', 'sequence': 5324761802, 'time': '2018-03-09T04:12:45.147000Z'},\n",
    "{'type': 'received', 'order_id': '065af9d6-b16d-4bf3-af2b-94f498c7a489', 'order_type': 'limit', 'size': '1.00000000', 'price': '8837.34000000', 'side': 'sell', 'client_oid': '2e29761f-1e0a-4d86-bd6c-e1e7cbcf85d8', 'product_id': 'BTC-USD', 'sequence': 5324761803, 'time': '2018-03-09T04:12:45.154000Z'},\n",
    "{'type': 'open', 'side': 'sell', 'price': '8837.34000000', 'order_id': '065af9d6-b16d-4bf3-af2b-94f498c7a489', 'remaining_size': '1.00000000', 'product_id': 'BTC-USD', 'sequence': 5324761804, 'time': '2018-03-09T04:12:45.154000Z'},\n",
    "{'type': 'done', 'side': 'sell', 'order_id': '9d341fbf-87bf-404c-8177-1c2ffa08678c', 'reason': 'canceled', 'product_id': 'BTC-USD', 'price': '8840.87000000', 'remaining_size': '0.57700000', 'sequence': 5324761805, 'time': '2018-03-09T04:12:45.157000Z'},\n",
    "{'type': 'done', 'side': 'buy', 'order_id': 'd2b76c6a-bdce-427f-b131-b4a571e7c201', 'reason': 'canceled', 'product_id': 'BTC-USD', 'price': '8824.01000000', 'remaining_size': '0.17000000', 'sequence': 5324761806, 'time': '2018-03-09T04:12:45.167000Z'},\n",
    "{'type': 'received', 'order_id': 'df0ac434-9bec-4fe8-ad96-1eec49610fca', 'order_type': 'limit', 'size': '0.17000000', 'price': '8824.02000000', 'side': 'buy', 'client_oid': 'c07596b9-ce12-4f0b-9b08-5486948c0a45', 'product_id': 'BTC-USD', 'sequence': 5324761807, 'time': '2018-03-09T04:12:45.169000Z'},\n",
    "{'type': 'open', 'side': 'buy', 'price': '8824.02000000', 'order_id': 'df0ac434-9bec-4fe8-ad96-1eec49610fca', 'remaining_size': '0.17000000', 'product_id': 'BTC-USD', 'sequence': 5324761808, 'time': '2018-03-09T04:12:45.169000Z'},\n",
    "{'type': 'received', 'order_id': '01803927-84bc-49d4-ad8d-95c4496829eb', 'order_type': 'limit', 'size': '0.54850000', 'price': '8838.85000000', 'side': 'sell', 'client_oid': '1e7d63cf-2350-11e8-a4dc-a08cfde1f766', 'product_id': 'BTC-USD', 'sequence': 5324761809, 'time': '2018-03-09T04:12:45.178000Z'},\n",
    "{'type': 'open', 'side': 'sell', 'price': '8838.85000000', 'order_id': '01803927-84bc-49d4-ad8d-95c4496829eb', 'remaining_size': '0.54850000', 'product_id': 'BTC-USD', 'sequence': 5324761810, 'time': '2018-03-09T04:12:45.178000Z'},\n",
    "{'type': 'received', 'order_id': '1cf222b5-bcd4-44e0-9c05-364bf390dcd9', 'order_type': 'limit', 'size': '0.90000000', 'price': '8821.06000000', 'side': 'buy', 'client_oid': '47c1d035-2341-4a2f-85ba-f725d9030b99', 'product_id': 'BTC-USD', 'sequence': 5324761811, 'time': '2018-03-09T04:12:45.182000Z'},\n",
    "{'type': 'open', 'side': 'buy', 'price': '8821.06000000', 'order_id': '1cf222b5-bcd4-44e0-9c05-364bf390dcd9', 'remaining_size': '0.90000000', 'product_id': 'BTC-USD', 'sequence': 5324761812, 'time': '2018-03-09T04:12:45.182000Z'},\n",
    "{'type': 'done', 'side': 'sell', 'order_id': '9f731195-bb77-463d-8110-548ae76370fe', 'reason': 'canceled', 'product_id': 'BTC-USD', 'price': '8859.84000000', 'remaining_size': '0.01000000', 'sequence': 5324761813, 'time': '2018-03-09T04:12:45.185000Z'},\n",
    "{'type': 'received', 'order_id': '5c5dae86-8d3f-4cf4-8317-991021c01815', 'order_type': 'limit', 'size': '5.98457717', 'price': '8777.86000000', 'side': 'buy', 'product_id': 'BTC-USD', 'sequence': 5324761814, 'time': '2018-03-09T04:12:45.208000Z'},\n",
    "{'type': 'open', 'side': 'buy', 'price': '8777.86000000', 'order_id': '5c5dae86-8d3f-4cf4-8317-991021c01815', 'remaining_size': '5.98457717', 'product_id': 'BTC-USD', 'sequence': 5324761815, 'time': '2018-03-09T04:12:45.208000Z'},\n",
    "{'type': 'done', 'side': 'buy', 'order_id': '1cf222b5-bcd4-44e0-9c05-364bf390dcd9', 'reason': 'canceled', 'product_id': 'BTC-USD', 'price': '8821.06000000', 'remaining_size': '0.90000000', 'sequence': 5324761816, 'time': '2018-03-09T04:12:45.209000Z'},\n",
    "{'type': 'received', 'order_id': 'cf8971be-85cb-4827-a5e6-9f8bb588d68d', 'order_type': 'limit', 'size': '0.01000000', 'price': '8858.17000000', 'side': 'sell', 'client_oid': 'a3272c57-779c-40ca-8000-00e21ca8c92d', 'product_id': 'BTC-USD', 'sequence': 5324761817, 'time': '2018-03-09T04:12:45.215000Z'},\n",
    "{'type': 'open', 'side': 'sell', 'price': '8858.17000000', 'order_id': 'cf8971be-85cb-4827-a5e6-9f8bb588d68d', 'remaining_size': '0.01000000', 'product_id': 'BTC-USD', 'sequence': 5324761818, 'time': '2018-03-09T04:12:45.215000Z'},\n",
    "{'type': 'done', 'side': 'sell', 'order_id': '73d8c9fc-bbf7-42f8-9716-f8fa8609de6a', 'reason': 'canceled', 'product_id': 'BTC-USD', 'price': '8835.01000000', 'remaining_size': '0.00126000', 'sequence': 5324761819, 'time': '2018-03-09T04:12:45.215000Z'},\n",
    "{'type': 'received', 'order_id': '30605371-43f3-43bf-ab0c-ed17af1c3163', 'order_type': 'limit', 'size': '0.00186000', 'price': '8835.01000000', 'side': 'sell', 'client_oid': '1e95a184-2350-11e8-b03f-16be7828d23e', 'product_id': 'BTC-USD', 'sequence': 5324761820, 'time': '2018-03-09T04:12:45.224000Z'},\n",
    "{'type': 'open', 'side': 'sell', 'price': '8835.01000000', 'order_id': '30605371-43f3-43bf-ab0c-ed17af1c3163', 'remaining_size': '0.00186000', 'product_id': 'BTC-USD', 'sequence': 5324761821, 'time': '2018-03-09T04:12:45.224000Z'},\n",
    "{'type': 'received', 'order_id': '027171bc-4840-4749-a681-dbe5844a85ae', 'order_type': 'limit', 'size': '0.90000000', 'price': '8821.07000000', 'side': 'buy', 'client_oid': '31c0ca31-1801-482e-847b-c99f04ffc747', 'product_id': 'BTC-USD', 'sequence': 5324761822, 'time': '2018-03-09T04:12:45.240000Z'},\n",
    "{'type': 'open', 'side': 'buy', 'price': '8821.07000000', 'order_id': '027171bc-4840-4749-a681-dbe5844a85ae', 'remaining_size': '0.90000000', 'product_id': 'BTC-USD', 'sequence': 5324761823, 'time': '2018-03-09T04:12:45.240000Z'},\n",
    "{'type': 'done', 'side': 'buy', 'order_id': '027171bc-4840-4749-a681-dbe5844a85ae', 'reason': 'canceled', 'product_id': 'BTC-USD', 'price': '8821.07000000', 'remaining_size': '0.90000000', 'sequence': 5324761824, 'time': '2018-03-09T04:12:45.250000Z'},\n",
    "{'type': 'done', 'side': 'sell', 'order_id': 'cf8971be-85cb-4827-a5e6-9f8bb588d68d', 'reason': 'canceled', 'product_id': 'BTC-USD', 'price': '8858.17000000', 'remaining_size': '0.01000000', 'sequence': 5324761825, 'time': '2018-03-09T04:12:45.259000Z'},\n",
    "{'type': 'received', 'order_id': '45919fd5-618a-451e-929b-331d263ea053', 'order_type': 'limit', 'size': '0.90000000', 'price': '8821.02000000', 'side': 'buy', 'client_oid': '6815e195-814c-4769-86b3-cce2ce0a6bd4', 'product_id': 'BTC-USD', 'sequence': 5324761826, 'time': '2018-03-09T04:12:45.286000Z'},\n",
    "{'type': 'open', 'side': 'buy', 'price': '8821.02000000', 'order_id': '45919fd5-618a-451e-929b-331d263ea053', 'remaining_size': '0.90000000', 'product_id': 'BTC-USD', 'sequence': 5324761827, 'time': '2018-03-09T04:12:45.286000Z'},\n",
    "{'type': 'done', 'side': 'buy', 'order_id': 'df0ac434-9bec-4fe8-ad96-1eec49610fca', 'reason': 'canceled', 'product_id': 'BTC-USD', 'price': '8824.02000000', 'remaining_size': '0.17000000', 'sequence': 5324761828, 'time': '2018-03-09T04:12:45.290000Z'},\n",
    "{'type': 'done', 'side': 'buy', 'order_id': '45919fd5-618a-451e-929b-331d263ea053', 'reason': 'canceled', 'product_id': 'BTC-USD', 'price': '8821.02000000', 'remaining_size': '0.90000000', 'sequence': 5324761829, 'time': '2018-03-09T04:12:45.297000Z'},\n",
    "{'type': 'received', 'order_id': 'b087b9f6-a6a9-4bca-94ac-b3eb5a31776a', 'order_type': 'limit', 'size': '0.02000000', 'price': '8800.01000000', 'side': 'buy', 'client_oid': '859fd7bb-4ec1-41ea-89a5-5c6e69ebd249', 'product_id': 'BTC-USD', 'sequence': 5324761830, 'time': '2018-03-09T04:12:45.298000Z'},\n",
    "{'type': 'open', 'side': 'buy', 'price': '8800.01000000', 'order_id': 'b087b9f6-a6a9-4bca-94ac-b3eb5a31776a', 'remaining_size': '0.02000000', 'product_id': 'BTC-USD', 'sequence': 5324761831, 'time': '2018-03-09T04:12:45.298000Z'},\n",
    "{'type': 'received', 'order_id': 'f9cbbdfc-41d7-4915-8848-a25b9183d59f', 'order_type': 'limit', 'size': '0.90000000', 'price': '8821.03000000', 'side': 'buy', 'client_oid': '315dc796-5d9b-4057-be9e-31c190b24003', 'product_id': 'BTC-USD', 'sequence': 5324761832, 'time': '2018-03-09T04:12:45.331000Z'},\n",
    "{'type': 'open', 'side': 'buy', 'price': '8821.03000000', 'order_id': 'f9cbbdfc-41d7-4915-8848-a25b9183d59f', 'remaining_size': '0.90000000', 'product_id': 'BTC-USD', 'sequence': 5324761833, 'time': '2018-03-09T04:12:45.331000Z'},\n",
    "{'type': 'done', 'side': 'sell', 'order_id': '3525d824-adf9-47db-b8fc-f538bd32f4db', 'reason': 'canceled', 'product_id': 'BTC-USD', 'price': '9989.93000000', 'remaining_size': '0.00200000', 'sequence': 5324761834, 'time': '2018-03-09T04:12:45.333000Z'},\n",
    "{'type': 'done', 'side': 'buy', 'order_id': 'f9cbbdfc-41d7-4915-8848-a25b9183d59f', 'reason': 'canceled', 'product_id': 'BTC-USD', 'price': '8821.03000000', 'remaining_size': '0.90000000', 'sequence': 5324761835, 'time': '2018-03-09T04:12:45.340000Z'},\n",
    "{'type': 'received', 'order_id': 'dab23558-9495-4da5-926c-0f97ba03f1b2', 'order_type': 'limit', 'size': '0.00200000', 'price': '9994.96000000', 'side': 'sell', 'client_oid': '00a90bd3-525c-461a-8000-00d504f4e096', 'product_id': 'BTC-USD', 'sequence': 5324761836, 'time': '2018-03-09T04:12:45.340000Z'}\n",
    "]\n",
    " "
   ]
  },
  {
   "cell_type": "code",
   "execution_count": 16,
   "metadata": {},
   "outputs": [],
   "source": [
    "result_df = pd.DataFrame.from_dict(data)"
   ]
  },
  {
   "cell_type": "code",
   "execution_count": null,
   "metadata": {},
   "outputs": [],
   "source": []
  },
  {
   "cell_type": "code",
   "execution_count": null,
   "metadata": {
    "collapsed": true
   },
   "outputs": [],
   "source": []
  }
 ],
 "metadata": {
  "kernelspec": {
   "display_name": "Python 3",
   "language": "python",
   "name": "python3"
  },
  "language_info": {
   "codemirror_mode": {
    "name": "ipython",
    "version": 3
   },
   "file_extension": ".py",
   "mimetype": "text/x-python",
   "name": "python",
   "nbconvert_exporter": "python",
   "pygments_lexer": "ipython3",
   "version": "3.6.2"
  }
 },
 "nbformat": 4,
 "nbformat_minor": 2
}
